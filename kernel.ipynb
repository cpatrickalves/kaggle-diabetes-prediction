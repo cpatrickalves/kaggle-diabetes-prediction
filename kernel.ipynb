{
 "cells": [
  {
   "cell_type": "markdown",
   "metadata": {
    "_cell_guid": "b1076dfc-b9ad-4769-8c92-a6c4dae69d19",
    "_uuid": "8f2839f25d086af736a60e9eeb907d3b93b6e0e5"
   },
   "source": [
    "# The problem to be solved: create a Machine Learning model to predict the occurrence of diseases\n",
    "\n",
    "Data source: National Institute of Diabetes and Digestive and Kidney Diseases\n",
    "\n",
    "Competition page: https://www.kaggle.com/c/competicao-dsa-machine-learning-jan-2019/"
   ]
  },
  {
   "cell_type": "markdown",
   "metadata": {
    "_cell_guid": "79c7e3d0-c299-4dcb-8224-4455121ee9b0",
    "_uuid": "d629ff2d2480ee46fbb7e2d37f6b5fab8052498a"
   },
   "source": [
    "# Exploratory Data Analysis \n",
    "\n",
    "Data fields:\n",
    "* num_gestacoes - Number of times pregnant\n",
    "* glicose - Plasma glucose concentration in oral glucose tolerance test\n",
    "* pressao_sanguinea - Diastolic blood pressure in mm Hg\n",
    "* grossura_pele - Thickness of the triceps skin fold in mm\n",
    "* insulina - Insulin (mu U / ml)\n",
    "* bmi - Body mass index measured by weight in kg / (height in m) ^ 2\n",
    "* indice_historico - Diabetes History Index (Pedigree Function)\n",
    "* idade - Age in years\n",
    "* classe - Class (0 - did not develop disease / 1 - developed disease)"
   ]
  },
  {
   "cell_type": "markdown",
   "metadata": {
    "_uuid": "6362894b0ad28dcc4c0a81f6b4aaafe0fe073ca3"
   },
   "source": [
    "## Loading the data"
   ]
  },
  {
   "cell_type": "code",
   "execution_count": 1,
   "metadata": {
    "_uuid": "0d12b76be005b3135e74d5a46caeca7c1f091528"
   },
   "outputs": [
    {
     "data": {
      "text/html": [
       "<div>\n",
       "<style scoped>\n",
       "    .dataframe tbody tr th:only-of-type {\n",
       "        vertical-align: middle;\n",
       "    }\n",
       "\n",
       "    .dataframe tbody tr th {\n",
       "        vertical-align: top;\n",
       "    }\n",
       "\n",
       "    .dataframe thead th {\n",
       "        text-align: right;\n",
       "    }\n",
       "</style>\n",
       "<table border=\"1\" class=\"dataframe\">\n",
       "  <thead>\n",
       "    <tr style=\"text-align: right;\">\n",
       "      <th></th>\n",
       "      <th>id</th>\n",
       "      <th>num_gestacoes</th>\n",
       "      <th>glicose</th>\n",
       "      <th>pressao_sanguinea</th>\n",
       "      <th>grossura_pele</th>\n",
       "      <th>insulina</th>\n",
       "      <th>bmi</th>\n",
       "      <th>indice_historico</th>\n",
       "      <th>idade</th>\n",
       "      <th>classe</th>\n",
       "    </tr>\n",
       "  </thead>\n",
       "  <tbody>\n",
       "    <tr>\n",
       "      <th>0</th>\n",
       "      <td>1</td>\n",
       "      <td>6</td>\n",
       "      <td>148</td>\n",
       "      <td>72</td>\n",
       "      <td>35</td>\n",
       "      <td>0</td>\n",
       "      <td>33.6</td>\n",
       "      <td>0.627</td>\n",
       "      <td>50</td>\n",
       "      <td>1</td>\n",
       "    </tr>\n",
       "    <tr>\n",
       "      <th>1</th>\n",
       "      <td>2</td>\n",
       "      <td>1</td>\n",
       "      <td>85</td>\n",
       "      <td>66</td>\n",
       "      <td>29</td>\n",
       "      <td>0</td>\n",
       "      <td>26.6</td>\n",
       "      <td>0.351</td>\n",
       "      <td>31</td>\n",
       "      <td>0</td>\n",
       "    </tr>\n",
       "    <tr>\n",
       "      <th>2</th>\n",
       "      <td>3</td>\n",
       "      <td>8</td>\n",
       "      <td>183</td>\n",
       "      <td>64</td>\n",
       "      <td>0</td>\n",
       "      <td>0</td>\n",
       "      <td>23.3</td>\n",
       "      <td>0.672</td>\n",
       "      <td>32</td>\n",
       "      <td>1</td>\n",
       "    </tr>\n",
       "    <tr>\n",
       "      <th>3</th>\n",
       "      <td>4</td>\n",
       "      <td>1</td>\n",
       "      <td>89</td>\n",
       "      <td>66</td>\n",
       "      <td>23</td>\n",
       "      <td>94</td>\n",
       "      <td>28.1</td>\n",
       "      <td>0.167</td>\n",
       "      <td>21</td>\n",
       "      <td>0</td>\n",
       "    </tr>\n",
       "    <tr>\n",
       "      <th>4</th>\n",
       "      <td>5</td>\n",
       "      <td>0</td>\n",
       "      <td>137</td>\n",
       "      <td>40</td>\n",
       "      <td>35</td>\n",
       "      <td>168</td>\n",
       "      <td>43.1</td>\n",
       "      <td>2.288</td>\n",
       "      <td>33</td>\n",
       "      <td>1</td>\n",
       "    </tr>\n",
       "  </tbody>\n",
       "</table>\n",
       "</div>"
      ],
      "text/plain": [
       "   id  num_gestacoes  glicose  pressao_sanguinea  grossura_pele  insulina  \\\n",
       "0   1              6      148                 72             35         0   \n",
       "1   2              1       85                 66             29         0   \n",
       "2   3              8      183                 64              0         0   \n",
       "3   4              1       89                 66             23        94   \n",
       "4   5              0      137                 40             35       168   \n",
       "\n",
       "    bmi  indice_historico  idade  classe  \n",
       "0  33.6             0.627     50       1  \n",
       "1  26.6             0.351     31       0  \n",
       "2  23.3             0.672     32       1  \n",
       "3  28.1             0.167     21       0  \n",
       "4  43.1             2.288     33       1  "
      ]
     },
     "execution_count": 1,
     "metadata": {},
     "output_type": "execute_result"
    }
   ],
   "source": [
    "# Importing packages\n",
    "import numpy as np \n",
    "import pandas as pd \n",
    "import seaborn as sns\n",
    "from scipy import stats\n",
    "import matplotlib.pyplot as plt\n",
    "import warnings\n",
    "warnings.filterwarnings(\"ignore\", category=FutureWarning)\n",
    "%matplotlib inline\n",
    "\n",
    "# Loading the data\n",
    "data = pd.read_csv('data/dataset_treino.csv')\n",
    "test_data = pd.read_csv('data/dataset_teste.csv')\n",
    "data.head(5)"
   ]
  },
  {
   "cell_type": "markdown",
   "metadata": {
    "_uuid": "04e97ff9374d5a275d7b26f82e0ddf4e1c93be5e"
   },
   "source": [
    "## Data overview"
   ]
  },
  {
   "cell_type": "code",
   "execution_count": 2,
   "metadata": {
    "_uuid": "4a6bcb303d74b4ebaafe42126eae4b61d5f6ec24"
   },
   "outputs": [
    {
     "name": "stdout",
     "output_type": "stream",
     "text": [
      "<class 'pandas.core.frame.DataFrame'>\n",
      "RangeIndex: 600 entries, 0 to 599\n",
      "Data columns (total 10 columns):\n",
      "id                   600 non-null int64\n",
      "num_gestacoes        600 non-null int64\n",
      "glicose              600 non-null int64\n",
      "pressao_sanguinea    600 non-null int64\n",
      "grossura_pele        600 non-null int64\n",
      "insulina             600 non-null int64\n",
      "bmi                  600 non-null float64\n",
      "indice_historico     600 non-null float64\n",
      "idade                600 non-null int64\n",
      "classe               600 non-null int64\n",
      "dtypes: float64(2), int64(8)\n",
      "memory usage: 47.0 KB\n"
     ]
    }
   ],
   "source": [
    "# General statistics\n",
    "data.info()"
   ]
  },
  {
   "cell_type": "markdown",
   "metadata": {
    "_uuid": "19087bd702deb0c1b04e3f7a7db9f5d5ff998881"
   },
   "source": [
    "All 10 predictors variables (features) are quantitative (numerical) and we have 600 observations to build the prediction model.\n",
    "\n",
    "The only qualitative column is the labels, where:\n",
    "\n",
    "* 0 - do not have the disease\n",
    "* 1 - have the disease\n"
   ]
  },
  {
   "cell_type": "markdown",
   "metadata": {
    "_uuid": "122eb0b6951d129c776c5c7e5da2b37344daec33"
   },
   "source": [
    "## Data Cleaning\n",
    "\n",
    "### Checking if there is missing values"
   ]
  },
  {
   "cell_type": "code",
   "execution_count": 3,
   "metadata": {
    "_uuid": "ff80d3e3743425e3e329b0978591fd9995126483"
   },
   "outputs": [
    {
     "data": {
      "text/plain": [
       "False"
      ]
     },
     "execution_count": 3,
     "metadata": {},
     "output_type": "execute_result"
    }
   ],
   "source": [
    "# If the result is False, there is no missing value\n",
    "data.isnull().values.any()"
   ]
  },
  {
   "cell_type": "markdown",
   "metadata": {
    "_uuid": "f5acc2e51508e146837aad1495c9ae0ba70013a9"
   },
   "source": [
    "### Computing statistics for each column"
   ]
  },
  {
   "cell_type": "code",
   "execution_count": 4,
   "metadata": {
    "_uuid": "b07404e445e74bbf16552e70b340ee2a25937a1a"
   },
   "outputs": [
    {
     "data": {
      "text/html": [
       "<div>\n",
       "<style scoped>\n",
       "    .dataframe tbody tr th:only-of-type {\n",
       "        vertical-align: middle;\n",
       "    }\n",
       "\n",
       "    .dataframe tbody tr th {\n",
       "        vertical-align: top;\n",
       "    }\n",
       "\n",
       "    .dataframe thead th {\n",
       "        text-align: right;\n",
       "    }\n",
       "</style>\n",
       "<table border=\"1\" class=\"dataframe\">\n",
       "  <thead>\n",
       "    <tr style=\"text-align: right;\">\n",
       "      <th></th>\n",
       "      <th>id</th>\n",
       "      <th>num_gestacoes</th>\n",
       "      <th>glicose</th>\n",
       "      <th>pressao_sanguinea</th>\n",
       "      <th>grossura_pele</th>\n",
       "      <th>insulina</th>\n",
       "      <th>bmi</th>\n",
       "      <th>indice_historico</th>\n",
       "      <th>idade</th>\n",
       "      <th>classe</th>\n",
       "    </tr>\n",
       "  </thead>\n",
       "  <tbody>\n",
       "    <tr>\n",
       "      <th>count</th>\n",
       "      <td>600.000000</td>\n",
       "      <td>600.000000</td>\n",
       "      <td>600.000000</td>\n",
       "      <td>600.000000</td>\n",
       "      <td>600.000000</td>\n",
       "      <td>600.000000</td>\n",
       "      <td>600.000000</td>\n",
       "      <td>600.000000</td>\n",
       "      <td>600.000000</td>\n",
       "      <td>600.000000</td>\n",
       "    </tr>\n",
       "    <tr>\n",
       "      <th>mean</th>\n",
       "      <td>300.500000</td>\n",
       "      <td>3.820000</td>\n",
       "      <td>120.135000</td>\n",
       "      <td>68.681667</td>\n",
       "      <td>20.558333</td>\n",
       "      <td>79.528333</td>\n",
       "      <td>31.905333</td>\n",
       "      <td>0.481063</td>\n",
       "      <td>33.278333</td>\n",
       "      <td>0.346667</td>\n",
       "    </tr>\n",
       "    <tr>\n",
       "      <th>std</th>\n",
       "      <td>173.349358</td>\n",
       "      <td>3.362009</td>\n",
       "      <td>32.658246</td>\n",
       "      <td>19.360226</td>\n",
       "      <td>16.004588</td>\n",
       "      <td>116.490583</td>\n",
       "      <td>8.009638</td>\n",
       "      <td>0.337284</td>\n",
       "      <td>11.822315</td>\n",
       "      <td>0.476306</td>\n",
       "    </tr>\n",
       "    <tr>\n",
       "      <th>min</th>\n",
       "      <td>1.000000</td>\n",
       "      <td>0.000000</td>\n",
       "      <td>0.000000</td>\n",
       "      <td>0.000000</td>\n",
       "      <td>0.000000</td>\n",
       "      <td>0.000000</td>\n",
       "      <td>0.000000</td>\n",
       "      <td>0.078000</td>\n",
       "      <td>21.000000</td>\n",
       "      <td>0.000000</td>\n",
       "    </tr>\n",
       "    <tr>\n",
       "      <th>25%</th>\n",
       "      <td>150.750000</td>\n",
       "      <td>1.000000</td>\n",
       "      <td>99.000000</td>\n",
       "      <td>64.000000</td>\n",
       "      <td>0.000000</td>\n",
       "      <td>0.000000</td>\n",
       "      <td>27.075000</td>\n",
       "      <td>0.248000</td>\n",
       "      <td>24.000000</td>\n",
       "      <td>0.000000</td>\n",
       "    </tr>\n",
       "    <tr>\n",
       "      <th>50%</th>\n",
       "      <td>300.500000</td>\n",
       "      <td>3.000000</td>\n",
       "      <td>116.000000</td>\n",
       "      <td>70.000000</td>\n",
       "      <td>23.000000</td>\n",
       "      <td>36.500000</td>\n",
       "      <td>32.000000</td>\n",
       "      <td>0.384000</td>\n",
       "      <td>29.000000</td>\n",
       "      <td>0.000000</td>\n",
       "    </tr>\n",
       "    <tr>\n",
       "      <th>75%</th>\n",
       "      <td>450.250000</td>\n",
       "      <td>6.000000</td>\n",
       "      <td>140.000000</td>\n",
       "      <td>80.000000</td>\n",
       "      <td>32.000000</td>\n",
       "      <td>122.750000</td>\n",
       "      <td>36.525000</td>\n",
       "      <td>0.647000</td>\n",
       "      <td>40.000000</td>\n",
       "      <td>1.000000</td>\n",
       "    </tr>\n",
       "    <tr>\n",
       "      <th>max</th>\n",
       "      <td>600.000000</td>\n",
       "      <td>17.000000</td>\n",
       "      <td>198.000000</td>\n",
       "      <td>122.000000</td>\n",
       "      <td>99.000000</td>\n",
       "      <td>846.000000</td>\n",
       "      <td>67.100000</td>\n",
       "      <td>2.420000</td>\n",
       "      <td>81.000000</td>\n",
       "      <td>1.000000</td>\n",
       "    </tr>\n",
       "  </tbody>\n",
       "</table>\n",
       "</div>"
      ],
      "text/plain": [
       "               id  num_gestacoes     glicose  pressao_sanguinea  \\\n",
       "count  600.000000     600.000000  600.000000         600.000000   \n",
       "mean   300.500000       3.820000  120.135000          68.681667   \n",
       "std    173.349358       3.362009   32.658246          19.360226   \n",
       "min      1.000000       0.000000    0.000000           0.000000   \n",
       "25%    150.750000       1.000000   99.000000          64.000000   \n",
       "50%    300.500000       3.000000  116.000000          70.000000   \n",
       "75%    450.250000       6.000000  140.000000          80.000000   \n",
       "max    600.000000      17.000000  198.000000         122.000000   \n",
       "\n",
       "       grossura_pele    insulina         bmi  indice_historico       idade  \\\n",
       "count     600.000000  600.000000  600.000000        600.000000  600.000000   \n",
       "mean       20.558333   79.528333   31.905333          0.481063   33.278333   \n",
       "std        16.004588  116.490583    8.009638          0.337284   11.822315   \n",
       "min         0.000000    0.000000    0.000000          0.078000   21.000000   \n",
       "25%         0.000000    0.000000   27.075000          0.248000   24.000000   \n",
       "50%        23.000000   36.500000   32.000000          0.384000   29.000000   \n",
       "75%        32.000000  122.750000   36.525000          0.647000   40.000000   \n",
       "max        99.000000  846.000000   67.100000          2.420000   81.000000   \n",
       "\n",
       "           classe  \n",
       "count  600.000000  \n",
       "mean     0.346667  \n",
       "std      0.476306  \n",
       "min      0.000000  \n",
       "25%      0.000000  \n",
       "50%      0.000000  \n",
       "75%      1.000000  \n",
       "max      1.000000  "
      ]
     },
     "execution_count": 4,
     "metadata": {},
     "output_type": "execute_result"
    }
   ],
   "source": [
    "data.describe()"
   ]
  },
  {
   "cell_type": "markdown",
   "metadata": {
    "_uuid": "af172d20272eebf1acea5f2f9f352a5f8edf8dfe"
   },
   "source": [
    "From the table above, we can see the zero values in almost all columns.\n",
    "For some of these columns, zero makes sense, like for Pregnancies and Outcome. But for some of the others, like BloodPressure or BMI, zero definitely doesn't make sense. \n",
    "\n",
    "After read some papers about the variables in the dataset, I see that some columns can have a value very close to zero (e.g. *grossura_pele*), but others can't have a zero value. \n",
    "\n",
    "The columns that can not have a zero value. \n",
    "* glicose\n",
    "* pressao_sanguinea\n",
    "* bmi\n",
    "\n",
    "Let's see the number of the occurrences of zero values for all columns:"
   ]
  },
  {
   "cell_type": "code",
   "execution_count": 5,
   "metadata": {
    "_uuid": "577c5f9657841649947d115dcb0141c750c39790"
   },
   "outputs": [
    {
     "name": "stdout",
     "output_type": "stream",
     "text": [
      "num_gestacoes - 93\n",
      "glicose - 5\n",
      "pressao_sanguinea - 28\n",
      "grossura_pele - 175\n",
      "insulina - 289\n",
      "bmi - 9\n",
      "indice_historico - 0\n",
      "idade - 0\n"
     ]
    }
   ],
   "source": [
    "# Compute the number of occurrences of a zero value \n",
    "features = ['num_gestacoes', 'glicose', 'pressao_sanguinea', 'grossura_pele', 'insulina', 'bmi', 'indice_historico', 'idade']\n",
    "for c in features:\n",
    "    counter = len(data[data[c] == 0])    \n",
    "    print('{} - {}'.format(c, counter))    "
   ]
  },
  {
   "cell_type": "markdown",
   "metadata": {
    "_uuid": "fc2ee8c780bb9119d17327bcebb2c801dc14faec"
   },
   "source": [
    "We can also see that the column *insulina* has 289 values, wich correspond to 48% of the training data.\n",
    "\n",
    "Let's remove these observations from the selected columns."
   ]
  },
  {
   "cell_type": "code",
   "execution_count": 6,
   "metadata": {
    "_uuid": "1c8cfd68a37e67c078b469b613df74f0f5d5fdf4"
   },
   "outputs": [
    {
     "data": {
      "text/plain": [
       "(564, 10)"
      ]
     },
     "execution_count": 6,
     "metadata": {},
     "output_type": "execute_result"
    }
   ],
   "source": [
    "# Removing observations with zero value\n",
    "data_cleaned = data.copy()   \n",
    "for c in ['glicose', 'pressao_sanguinea', 'bmi']:\n",
    "    data_cleaned = data_cleaned[data_cleaned[c] != 0]\n",
    "\n",
    "data_cleaned.shape"
   ]
  },
  {
   "cell_type": "markdown",
   "metadata": {
    "_uuid": "65e382c9801f7f562c4751d15bbcee8260196195"
   },
   "source": [
    "The final number of observations was 564. \n",
    "\n",
    "Let's see the compute some statistics again:"
   ]
  },
  {
   "cell_type": "code",
   "execution_count": 7,
   "metadata": {
    "_uuid": "6b40c0deb9e7ccb0607c6810ff2739b019620e22"
   },
   "outputs": [
    {
     "data": {
      "text/html": [
       "<div>\n",
       "<style scoped>\n",
       "    .dataframe tbody tr th:only-of-type {\n",
       "        vertical-align: middle;\n",
       "    }\n",
       "\n",
       "    .dataframe tbody tr th {\n",
       "        vertical-align: top;\n",
       "    }\n",
       "\n",
       "    .dataframe thead th {\n",
       "        text-align: right;\n",
       "    }\n",
       "</style>\n",
       "<table border=\"1\" class=\"dataframe\">\n",
       "  <thead>\n",
       "    <tr style=\"text-align: right;\">\n",
       "      <th></th>\n",
       "      <th>id</th>\n",
       "      <th>num_gestacoes</th>\n",
       "      <th>glicose</th>\n",
       "      <th>pressao_sanguinea</th>\n",
       "      <th>grossura_pele</th>\n",
       "      <th>insulina</th>\n",
       "      <th>bmi</th>\n",
       "      <th>indice_historico</th>\n",
       "      <th>idade</th>\n",
       "      <th>classe</th>\n",
       "    </tr>\n",
       "  </thead>\n",
       "  <tbody>\n",
       "    <tr>\n",
       "      <th>count</th>\n",
       "      <td>564.000000</td>\n",
       "      <td>564.000000</td>\n",
       "      <td>564.000000</td>\n",
       "      <td>564.000000</td>\n",
       "      <td>564.000000</td>\n",
       "      <td>564.000000</td>\n",
       "      <td>564.000000</td>\n",
       "      <td>564.000000</td>\n",
       "      <td>564.000000</td>\n",
       "      <td>564.000000</td>\n",
       "    </tr>\n",
       "    <tr>\n",
       "      <th>mean</th>\n",
       "      <td>300.664894</td>\n",
       "      <td>3.845745</td>\n",
       "      <td>121.354610</td>\n",
       "      <td>72.049645</td>\n",
       "      <td>21.432624</td>\n",
       "      <td>84.406028</td>\n",
       "      <td>32.367199</td>\n",
       "      <td>0.483294</td>\n",
       "      <td>33.448582</td>\n",
       "      <td>0.340426</td>\n",
       "    </tr>\n",
       "    <tr>\n",
       "      <th>std</th>\n",
       "      <td>173.410435</td>\n",
       "      <td>3.349287</td>\n",
       "      <td>31.130992</td>\n",
       "      <td>12.261552</td>\n",
       "      <td>15.809953</td>\n",
       "      <td>118.432015</td>\n",
       "      <td>6.974710</td>\n",
       "      <td>0.337668</td>\n",
       "      <td>11.868844</td>\n",
       "      <td>0.474273</td>\n",
       "    </tr>\n",
       "    <tr>\n",
       "      <th>min</th>\n",
       "      <td>1.000000</td>\n",
       "      <td>0.000000</td>\n",
       "      <td>44.000000</td>\n",
       "      <td>24.000000</td>\n",
       "      <td>0.000000</td>\n",
       "      <td>0.000000</td>\n",
       "      <td>18.200000</td>\n",
       "      <td>0.078000</td>\n",
       "      <td>21.000000</td>\n",
       "      <td>0.000000</td>\n",
       "    </tr>\n",
       "    <tr>\n",
       "      <th>25%</th>\n",
       "      <td>150.750000</td>\n",
       "      <td>1.000000</td>\n",
       "      <td>99.000000</td>\n",
       "      <td>64.000000</td>\n",
       "      <td>0.000000</td>\n",
       "      <td>0.000000</td>\n",
       "      <td>27.300000</td>\n",
       "      <td>0.250500</td>\n",
       "      <td>24.000000</td>\n",
       "      <td>0.000000</td>\n",
       "    </tr>\n",
       "    <tr>\n",
       "      <th>50%</th>\n",
       "      <td>298.500000</td>\n",
       "      <td>3.000000</td>\n",
       "      <td>116.000000</td>\n",
       "      <td>72.000000</td>\n",
       "      <td>23.500000</td>\n",
       "      <td>49.000000</td>\n",
       "      <td>32.000000</td>\n",
       "      <td>0.389000</td>\n",
       "      <td>29.000000</td>\n",
       "      <td>0.000000</td>\n",
       "    </tr>\n",
       "    <tr>\n",
       "      <th>75%</th>\n",
       "      <td>450.250000</td>\n",
       "      <td>6.000000</td>\n",
       "      <td>141.250000</td>\n",
       "      <td>80.000000</td>\n",
       "      <td>33.000000</td>\n",
       "      <td>130.000000</td>\n",
       "      <td>36.600000</td>\n",
       "      <td>0.648250</td>\n",
       "      <td>41.000000</td>\n",
       "      <td>1.000000</td>\n",
       "    </tr>\n",
       "    <tr>\n",
       "      <th>max</th>\n",
       "      <td>600.000000</td>\n",
       "      <td>17.000000</td>\n",
       "      <td>198.000000</td>\n",
       "      <td>122.000000</td>\n",
       "      <td>99.000000</td>\n",
       "      <td>846.000000</td>\n",
       "      <td>67.100000</td>\n",
       "      <td>2.420000</td>\n",
       "      <td>81.000000</td>\n",
       "      <td>1.000000</td>\n",
       "    </tr>\n",
       "  </tbody>\n",
       "</table>\n",
       "</div>"
      ],
      "text/plain": [
       "               id  num_gestacoes     glicose  pressao_sanguinea  \\\n",
       "count  564.000000     564.000000  564.000000         564.000000   \n",
       "mean   300.664894       3.845745  121.354610          72.049645   \n",
       "std    173.410435       3.349287   31.130992          12.261552   \n",
       "min      1.000000       0.000000   44.000000          24.000000   \n",
       "25%    150.750000       1.000000   99.000000          64.000000   \n",
       "50%    298.500000       3.000000  116.000000          72.000000   \n",
       "75%    450.250000       6.000000  141.250000          80.000000   \n",
       "max    600.000000      17.000000  198.000000         122.000000   \n",
       "\n",
       "       grossura_pele    insulina         bmi  indice_historico       idade  \\\n",
       "count     564.000000  564.000000  564.000000        564.000000  564.000000   \n",
       "mean       21.432624   84.406028   32.367199          0.483294   33.448582   \n",
       "std        15.809953  118.432015    6.974710          0.337668   11.868844   \n",
       "min         0.000000    0.000000   18.200000          0.078000   21.000000   \n",
       "25%         0.000000    0.000000   27.300000          0.250500   24.000000   \n",
       "50%        23.500000   49.000000   32.000000          0.389000   29.000000   \n",
       "75%        33.000000  130.000000   36.600000          0.648250   41.000000   \n",
       "max        99.000000  846.000000   67.100000          2.420000   81.000000   \n",
       "\n",
       "           classe  \n",
       "count  564.000000  \n",
       "mean     0.340426  \n",
       "std      0.474273  \n",
       "min      0.000000  \n",
       "25%      0.000000  \n",
       "50%      0.000000  \n",
       "75%      1.000000  \n",
       "max      1.000000  "
      ]
     },
     "execution_count": 7,
     "metadata": {},
     "output_type": "execute_result"
    }
   ],
   "source": [
    "data_cleaned.describe()"
   ]
  },
  {
   "cell_type": "markdown",
   "metadata": {
    "_uuid": "797079134a8c8d1df249bafeebbdf4a685eba0b7"
   },
   "source": [
    "### Checking outliers\n",
    "\n",
    "Let's check if there is ouliers in the data.\n",
    "\n",
    "First, we'll use a set of boxplots, one for each column."
   ]
  },
  {
   "cell_type": "code",
   "execution_count": 8,
   "metadata": {
    "_uuid": "3798e41daeb1172be909514f032b4e915c4c4f5f"
   },
   "outputs": [
    {
     "data": {
      "image/png": "[encoded data removed]",
      "text/plain": [
       "<Figure size 1440x576 with 8 Axes>"
      ]
     },
     "metadata": {},
     "output_type": "display_data"
    }
   ],
   "source": [
    "fig, axes = plt.subplots(2,4, figsize=(20,8))\n",
    "\n",
    "x,y = 0,0\n",
    "for i, column in enumerate(data_cleaned.columns[1:-1]):    \n",
    "    sns.boxplot(x=data_cleaned[column], ax=axes[x,y])\n",
    "    if i < 3:\n",
    "        y += 1\n",
    "    elif i == 3: \n",
    "        x = 1\n",
    "        y = 0\n",
    "    else:\n",
    "        y += 1"
   ]
  },
  {
   "cell_type": "markdown",
   "metadata": {},
   "source": [
    "We can see some possible outliers for almost all columns (separated points in the plots).\n",
    "\n",
    "The outliers can either be a mistake or just variance. For now, let's consider all of than as a mistakes.\n",
    "\n",
    "To remove these outliers we can use Z-Score or IQR (Interquartile Range).\n",
    "\n",
    "The Z-score is the signed number of standard deviations by which the value of an observation or data point is above the mean value of what is being observed or measured. Z-score is finding the distribution of data where mean is 0 and standard deviation is 1. While calculating the Z-score we re-scale and center the data and look for data points which are too far from zero. These data points which are way too far from zero will be treated as the outliers. In most of the cases a threshold of 3 or -3 is used i.e if the Z-score value is greater than or less than 3 or -3 respectively, that data point will be identified as outliers.\n",
    "\n",
    "Let's use Z-score function defined in scipy library to detect the outliers:"
   ]
  },
  {
   "cell_type": "code",
   "execution_count": 9,
   "metadata": {},
   "outputs": [
    {
     "name": "stdout",
     "output_type": "stream",
     "text": [
      "(564, 10)\n",
      "(531, 10)\n"
     ]
    }
   ],
   "source": [
    "# Compute the Z-Score for each columns\n",
    "\n",
    "print(data_cleaned.shape)\n",
    "\n",
    "z = np.abs(stats.zscore(data_cleaned))    \n",
    "data_cleaned = data_cleaned[(z < 3).all(axis=1)]   \n",
    "\n",
    "print(data_cleaned.shape)    "
   ]
  },
  {
   "cell_type": "markdown",
   "metadata": {},
   "source": [
    "Using Z-Score, 33 observations where removed.\n",
    "\n",
    "Let's see the boxplots again:"
   ]
  },
  {
   "cell_type": "code",
   "execution_count": 10,
   "metadata": {},
   "outputs": [
    {
     "data": {
      "image/png": "[encoded data removed]",
      "text/plain": [
       "<Figure size 1440x576 with 8 Axes>"
      ]
     },
     "metadata": {},
     "output_type": "display_data"
    }
   ],
   "source": [
    "fig, axes = plt.subplots(2,4, figsize=(20,8))\n",
    "\n",
    "x,y = 0,0\n",
    "for i, column in enumerate(data_cleaned.columns[1:-1]):    \n",
    "    sns.boxplot(x=data_cleaned[column], ax=axes[x,y], palette=\"Set2\")\n",
    "    if i < 3:\n",
    "        y += 1\n",
    "    elif i == 3: \n",
    "        x = 1\n",
    "        y = 0\n",
    "    else:\n",
    "        y += 1"
   ]
  },
  {
   "cell_type": "markdown",
   "metadata": {},
   "source": [
    "The data was much cleaner now. Still, there are some points in the boxplots, but some of them are not outliers, like the *insulina* values higher than 400, which is acceptable in people with diabetes. "
   ]
  },
  {
   "cell_type": "markdown",
   "metadata": {},
   "source": [
    "### Checking the balance of the dataset\n",
    "\n",
    "Let's checking the distribuitions of examples for each label:"
   ]
  },
  {
   "cell_type": "code",
   "execution_count": 11,
   "metadata": {},
   "outputs": [
    {
     "data": {
      "image/png": "[encoded data removed]",
      "text/plain": [
       "<Figure size 432x288 with 1 Axes>"
      ]
     },
     "metadata": {},
     "output_type": "display_data"
    }
   ],
   "source": [
    "data_cleaned.classe.value_counts().plot(kind='bar');"
   ]
  },
  {
   "cell_type": "code",
   "execution_count": 12,
   "metadata": {},
   "outputs": [
    {
     "data": {
      "text/plain": [
       "0    0.676083\n",
       "1    0.323917\n",
       "Name: classe, dtype: float64"
      ]
     },
     "execution_count": 12,
     "metadata": {},
     "output_type": "execute_result"
    }
   ],
   "source": [
    "data_cleaned.classe.value_counts(normalize=True)"
   ]
  },
  {
   "cell_type": "markdown",
   "metadata": {},
   "source": [
    "From the figure above, we see most of our examples are of people that do not have the disease. More specifically, 67% of the data are for healthy people.\n",
    "\n",
    "As the dataset is unbalanced, let's use some methods to reduce the unbalance of the classes.\n",
    "\n",
    "I use the over-sampling SMOTE method.\n",
    "SMOTE (Synthetic Minority Oversampling TEchnique) consists of synthesizing elements for the minority class, based on those that already exist. It works randomly picking a point from the minority class and computing the k-nearest neighbors for this point. The synthetic points are added between the chosen point and its neighbors.\n"
   ]
  },
  {
   "cell_type": "code",
   "execution_count": 13,
   "metadata": {},
   "outputs": [
    {
     "name": "stdout",
     "output_type": "stream",
     "text": [
      "187 new random picked points\n"
     ]
    },
    {
     "data": {
      "image/png": "[encoded data removed]",
      "text/plain": [
       "<Figure size 432x288 with 1 Axes>"
      ]
     },
     "metadata": {},
     "output_type": "display_data"
    }
   ],
   "source": [
    "from imblearn.over_sampling import SMOTE\n",
    "\n",
    "# Select the columns with features\n",
    "features = ['num_gestacoes', 'glicose', 'pressao_sanguinea', 'grossura_pele', 'insulina', 'bmi', 'indice_historico', 'idade']\n",
    "X = data_cleaned[features]\n",
    "# Select the columns with labels\n",
    "Y = data_cleaned['classe']\n",
    "\n",
    "smote = SMOTE(sampling_strategy=1.0, k_neighbors=4)\n",
    "X_sm, y_sm = smote.fit_sample(X, Y)\n",
    "\n",
    "print(X_sm.shape[0] - X.shape[0], 'new random picked points')\n",
    "data_cleaned_oversampled = pd.DataFrame(X_sm, columns=data.columns[1:-1])\n",
    "data_cleaned_oversampled['classe'] = y_sm\n",
    "data_cleaned_oversampled['id'] = range(1,len(y_sm)+1)\n",
    "\n",
    "for c in ['num_gestacoes', 'glicose', 'pressao_sanguinea', 'grossura_pele', 'insulina', 'idade']:\n",
    "    data_cleaned_oversampled[c] = data_cleaned_oversampled[c].apply(lambda x: int(x))\n",
    "\n",
    "data_cleaned_oversampled.classe.value_counts().plot(kind='bar');"
   ]
  },
  {
   "cell_type": "markdown",
   "metadata": {},
   "source": [
    "# Training the Model\n",
    "\n",
    "Now that data is cleaned, let's use a machine learning model to predict whether or not a person has diabetes.\n",
    "\n",
    "The metric used in this competition is the **accuracy score**."
   ]
  },
  {
   "cell_type": "markdown",
   "metadata": {},
   "source": [
    "### Using Decision Tree"
   ]
  },
  {
   "cell_type": "code",
   "execution_count": 14,
   "metadata": {},
   "outputs": [
    {
     "name": "stdout",
     "output_type": "stream",
     "text": [
      "Accuracy is  73.35648148148148\n"
     ]
    }
   ],
   "source": [
    "from sklearn.model_selection import train_test_split\n",
    "from sklearn.metrics import accuracy_score\n",
    "from sklearn.metrics import confusion_matrix\n",
    "from sklearn import tree\n",
    "\n",
    "# Select the columns with features\n",
    "features = ['num_gestacoes', 'glicose', 'pressao_sanguinea', 'grossura_pele', 'insulina', 'bmi', 'indice_historico', 'idade']\n",
    "X = data_cleaned_oversampled[features]\n",
    "# Select the columns with labels\n",
    "Y = data_cleaned_oversampled['classe']\n",
    "\n",
    "# Perform the training and test 100 times with different seeds and compute the mean accuracy.\n",
    "# Save results\n",
    "acurrances = []\n",
    "for i in range(100):    \n",
    "    # Spliting Dataset into Test and Train\n",
    "    X_train, X_test, y_train, y_test = train_test_split(X, Y, test_size=0.3, random_state=i)\n",
    "\n",
    "    # Create and train the model\n",
    "    clf = tree.DecisionTreeClassifier(criterion = 'entropy', random_state=i, max_depth=4)\n",
    "    clf.fit(X_train,y_train)\n",
    "\n",
    "    # Performing predictions with test dataset\n",
    "    y_pred = clf.predict(X_test)\n",
    "    # Computing accuracy    \n",
    "    acurrances.append(accuracy_score(y_test, y_pred)*100)\n",
    "\n",
    "print('Accuracy is ', np.mean(acurrances))"
   ]
  },
  {
   "cell_type": "markdown",
   "metadata": {},
   "source": [
    "### Using Logistic Regression (LR)\n"
   ]
  },
  {
   "cell_type": "code",
   "execution_count": 15,
   "metadata": {},
   "outputs": [
    {
     "name": "stdout",
     "output_type": "stream",
     "text": [
      "Accuracy is  76.725\n"
     ]
    }
   ],
   "source": [
    "from sklearn.linear_model import LogisticRegression\n",
    "from sklearn.metrics import classification_report, confusion_matrix\n",
    "\n",
    "# Select the columns with features\n",
    "features = ['num_gestacoes', 'glicose', 'pressao_sanguinea', 'grossura_pele', 'insulina', 'bmi', 'indice_historico', 'idade']\n",
    "\n",
    "# For the LR the oversampled database decreased the model accuracy, so I choose do not use it.\n",
    "X = data_cleaned[features]\n",
    "# Select the columns with labels\n",
    "Y = data_cleaned['classe']\n",
    "\n",
    "# Perform the training and test 100 times with different seeds and compute the mean accuracy.\n",
    "# Save results\n",
    "acurrances = []\n",
    "for i in range(100):    \n",
    "    # Spliting the data\n",
    "    X_train, X_test, y_train, y_test = train_test_split(X, Y, test_size=0.3, random_state=i)\n",
    "    LR_model=LogisticRegression(class_weight={1:1.15})\n",
    "    LR_model.fit(X_train,y_train)\n",
    "\n",
    "    # Testing\n",
    "    y_pred=LR_model.predict(X_test)\n",
    "    acurrances.append(accuracy_score(y_test, y_pred)*100)\n",
    "    \n",
    "    # Print only the last\n",
    "    if i == 99:\n",
    "        pass\n",
    "        #print(classification_report(y_test,y_pred))\n",
    "        #print(confusion_matrix(y_true=y_test, y_pred=y_pred))\n",
    "\n",
    "print('Accuracy is ', np.mean(acurrances))"
   ]
  },
  {
   "cell_type": "markdown",
   "metadata": {},
   "source": [
    "### Feature selection\n",
    "\n",
    "The large number of zero values in the *grossura_pele* and *insulina* are impairing the performance of the model.\n",
    "So, as insulin is an important parameter in the evaluation of diabetes let's replace the zeros values by the mean\n",
    "for both columns.\n",
    "\n",
    "As the Logistic Regression (LR) perform better than the Decision Tree. I'll use only LR from now."
   ]
  },
  {
   "cell_type": "code",
   "execution_count": 16,
   "metadata": {},
   "outputs": [],
   "source": [
    "# Replacing the zeros by the mean\n",
    "data_cleaned_no_zeros = data_cleaned.copy()\n",
    "\n",
    "for c in ['grossura_pele', 'insulina']:    \n",
    "    feature_avg =data_cleaned[data_cleaned[c]>0][[c]].mean()\n",
    "    data_cleaned[c]=np.where(data_cleaned[[c]]!=0,data_cleaned[[c]],feature_avg)"
   ]
  },
  {
   "cell_type": "code",
   "execution_count": 17,
   "metadata": {},
   "outputs": [
    {
     "name": "stdout",
     "output_type": "stream",
     "text": [
      "              precision    recall  f1-score   support\n",
      "\n",
      "           0       0.83      0.91      0.87       110\n",
      "           1       0.75      0.60      0.67        50\n",
      "\n",
      "   micro avg       0.81      0.81      0.81       160\n",
      "   macro avg       0.79      0.75      0.77       160\n",
      "weighted avg       0.81      0.81      0.81       160\n",
      "\n",
      "[[100  10]\n",
      " [ 20  30]]\n",
      "Accuracy is  76.5625\n"
     ]
    }
   ],
   "source": [
    "# Select the columns with features\n",
    "features = ['num_gestacoes', 'glicose', 'pressao_sanguinea', 'grossura_pele', 'insulina', 'bmi', 'indice_historico', 'idade']\n",
    "X = data_cleaned_no_zeros[features]\n",
    "# Select the columns with labels\n",
    "Y = data_cleaned_no_zeros['classe']\n",
    "\n",
    "# Perform the training and test 100 times with different seeds and compute the mean accuracy score.\n",
    "# Save results\n",
    "acurrances = []\n",
    "for i in range(100):    \n",
    "    # Spliting the data\n",
    "    X_train, X_test, y_train, y_test = train_test_split(X, Y, test_size=0.3, random_state=i)\n",
    "    LR_model=LogisticRegression(class_weight={1:1.1})\n",
    "    LR_model.fit(X_train,y_train)\n",
    "\n",
    "    # Testing\n",
    "    y_pred=LR_model.predict(X_test)\n",
    "    acurrances.append(accuracy_score(y_test, y_pred)*100)\n",
    "    \n",
    "    # Print only the last\n",
    "    if i == 99:\n",
    "        print(classification_report(y_test,y_pred))\n",
    "        print(confusion_matrix(y_true=y_test, y_pred=y_pred))\n",
    "\n",
    "print('Accuracy is ', np.mean(acurrances))\n"
   ]
  },
  {
   "cell_type": "markdown",
   "metadata": {},
   "source": [
    "The performance decrease when I replace the zeros values by the mean for *grossura_pele* and *insulina* columns.\n",
    "\n"
   ]
  },
  {
   "cell_type": "markdown",
   "metadata": {},
   "source": [
    "## Performing the Final Prediction\n",
    "\n",
    "For the final model, I choose to use LR with the cleaned dataset."
   ]
  },
  {
   "cell_type": "code",
   "execution_count": 18,
   "metadata": {},
   "outputs": [],
   "source": [
    "# Create and train the model with all data\n",
    "model=LogisticRegression(class_weight={1:1.1})\n",
    "model.fit(data_cleaned[features],data_cleaned['classe'])\n",
    "\n",
    "# Get the kaggle test data\n",
    "X_test = test_data[features]\n",
    "# Make the prediction \n",
    "prediction = model.predict(X_test)\n",
    "\n",
    "# Add the predictions to the dataframe \n",
    "test_data['classe'] = prediction\n",
    "\n",
    "# Create the submission file\n",
    "test_data.loc[:,['id', 'classe']].to_csv('submission.csv', encoding='utf-8', index=False)"
   ]
  },
  {
   "cell_type": "markdown",
   "metadata": {},
   "source": [
    "#### For this submission I got a accuracy/score of 76.27%."
   ]
  }
 ],
 "metadata": {
  "kernelspec": {
   "display_name": "Python 3",
   "language": "python",
   "name": "python3"
  },
  "language_info": {
   "codemirror_mode": {
    "name": "ipython",
    "version": 3
   },
   "file_extension": ".py",
   "mimetype": "text/x-python",
   "name": "python",
   "nbconvert_exporter": "python",
   "pygments_lexer": "ipython3",
   "version": "3.6.5"
  }
 },
 "nbformat": 4,
 "nbformat_minor": 2
}
